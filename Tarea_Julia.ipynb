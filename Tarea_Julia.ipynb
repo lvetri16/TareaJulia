{
 "cells": [
  {
   "cell_type": "markdown",
   "id": "83b1e34d-f068-4d8d-a02c-7d4bd726b97d",
   "metadata": {},
   "source": [
    "Ejecutar codigo en Julia: \n",
    "Para ejecutar codigo en Julia mediante la consola basta con escribir comandos directamente en ella y ver los resultados de inmediato"
   ]
  },
  {
   "cell_type": "code",
   "execution_count": 5,
   "id": "c14b1680-b194-42d4-ae5d-6fa7d0ee9d16",
   "metadata": {},
   "outputs": [
    {
     "data": {
      "text/plain": [
       "1"
      ]
     },
     "execution_count": 5,
     "metadata": {},
     "output_type": "execute_result"
    }
   ],
   "source": [
    "1"
   ]
  },
  {
   "cell_type": "markdown",
   "id": "080384a5-ac7b-4a6f-9a28-1269765c5ca4",
   "metadata": {},
   "source": [
    "En caso que no queramos ver los resultados podemos usar un punto y coma para ocultarlos"
   ]
  },
  {
   "cell_type": "code",
   "execution_count": 6,
   "id": "0cf7aef4-1b3e-4172-8deb-1416976de306",
   "metadata": {},
   "outputs": [],
   "source": [
    "1;"
   ]
  },
  {
   "cell_type": "markdown",
   "id": "568f4dd5-daf0-4138-ae70-9b532913a9f6",
   "metadata": {},
   "source": [
    "Tambien podemos ejecutar codigo en Julia escribiendo scripts.\n",
    "Un script es una secuencia de comandos de Julia dentro de un archivo, puedes agregar muchos comandos a este archivo y se ejecutaran en orden de arriba a abajo. Usar un script te permite guardar todos los comandos y reutilizarlos en lugar de escribirlos manualmente en consola cada vez."
   ]
  },
  {
   "cell_type": "code",
   "execution_count": null,
   "id": "c695c306-d601-4690-a578-7096fbdaf321",
   "metadata": {},
   "outputs": [],
   "source": []
  },
  {
   "cell_type": "markdown",
   "id": "e279d66a-2826-4596-9313-7f508bd3ce71",
   "metadata": {},
   "source": [
    "Calculos simples e impresion:\n",
    "Cuando escribimos nuestro codigo en un script, no veremos la salida de cada linea como en consola. En su lugar, podemos elegir que lineas imprimir utilizando la función println. Escribimos println y dentro de los paréntesis colocamos lo que queremos que el script imprima. En este ejemplo, imprimimos el número dos y la suma de uno más dos."
   ]
  },
  {
   "cell_type": "code",
   "execution_count": 7,
   "id": "7654f77f-2feb-479f-a4d0-93e2e4bd94b6",
   "metadata": {},
   "outputs": [
    {
     "name": "stdout",
     "output_type": "stream",
     "text": [
      "2\n",
      "3\n"
     ]
    }
   ],
   "source": [
    "#Dentro del script\n",
    "println(2)\n",
    "println(1+2)"
   ]
  },
  {
   "cell_type": "markdown",
   "id": "c10fe24b-ff9c-4280-9cb6-15f9d19fe615",
   "metadata": {},
   "source": [
    "Comentarios:\n",
    "Para realizar comentarios de una sola linea en Julia debemos agregar un \"#\" al inicio de la linea.\n",
    "Para realizar comentarios Multi-linea basta con agregar \"#=\" al inicio del comentario y \"=#\" al final del comentario.\n",
    "De esta forma Julia ignorara estas lineas, lo cual permite anotar y agregar notas a nuestro codigo."
   ]
  },
  {
   "cell_type": "code",
   "execution_count": 8,
   "id": "df37b246-4eb4-47b9-b830-979f726746fe",
   "metadata": {},
   "outputs": [
    {
     "name": "stdout",
     "output_type": "stream",
     "text": [
      "2\n"
     ]
    }
   ],
   "source": [
    "#Esto es un comentario de una linea\n",
    "#=\n",
    "Esto\n",
    "es\n",
    "un\n",
    "comentario\n",
    "multi-linea\n",
    "=#\n",
    "println(2)"
   ]
  },
  {
   "cell_type": "markdown",
   "id": "dadddb10-bc03-41f2-8279-94f508b412f9",
   "metadata": {},
   "source": []
  },
  {
   "cell_type": "markdown",
   "id": "fbc71c19-27d8-4e18-a79a-a0ffffe384cf",
   "metadata": {},
   "source": [
    "Variables:\n",
    "En Julia para declarar variables, asignamos un valor a un nombre, sin necesidad de usar palabras reservadas ni especificar el tipo de variable. Se utiliza el operador de asignacion \"=\" para asignar un valor a la variables.s.\n",
    "Ejemplo:\n"
   ]
  },
  {
   "cell_type": "code",
   "execution_count": 10,
   "id": "016caee1-6d15-48eb-8e7c-d4a3694a3281",
   "metadata": {},
   "outputs": [
    {
     "data": {
      "text/plain": [
       "\"Leo\""
      ]
     },
     "execution_count": 10,
     "metadata": {},
     "output_type": "execute_result"
    }
   ],
   "source": [
    "mi_nombre = \"Leo\""
   ]
  },
  {
   "cell_type": "code",
   "execution_count": 11,
   "id": "f86c3210-b49d-46c7-a5f2-7fdc4df0e636",
   "metadata": {},
   "outputs": [
    {
     "data": {
      "text/plain": [
       "24"
      ]
     },
     "execution_count": 11,
     "metadata": {},
     "output_type": "execute_result"
    }
   ],
   "source": [
    "mi_edad = 24"
   ]
  },
  {
   "cell_type": "code",
   "execution_count": 13,
   "id": "6f37930c-de89-4408-a662-69937a7a722b",
   "metadata": {},
   "outputs": [
    {
     "data": {
      "text/plain": [
       "1.77"
      ]
     },
     "execution_count": 13,
     "metadata": {},
     "output_type": "execute_result"
    }
   ],
   "source": [
    "mi_estatura_en_metros= 1.77"
   ]
  },
  {
   "cell_type": "markdown",
   "id": "b61f7793-a22a-4a12-8328-d202b36b8d9d",
   "metadata": {},
   "source": [
    "Los nombres de las variables deben empezar con una letra y pueden contener letras, números y _.\r\n",
    "Julia es sensible a mayúsculas y minúsculas (x es diferente de X).\r\n",
    "Julia soporta el sistema unicode para nombrar variable s."
   ]
  },
  {
   "cell_type": "code",
   "execution_count": null,
   "id": "7ca008e5-9a07-48cc-8c62-6b4dc2a01eae",
   "metadata": {},
   "outputs": [],
   "source": [
    "α = 0.3"
   ]
  },
  {
   "cell_type": "markdown",
   "id": "8761fbdd-8570-435d-b88f-d15b1ec2e3d5",
   "metadata": {},
   "source": [
    "Tipos basicos de Datos:\n",
    "1. Datos de tipo Numericos: distinguiendo entre enteros (Int64, Int32, Int16), decimales (Float64, Float32, Float16) y complejos (Complex)."
   ]
  },
  {
   "cell_type": "code",
   "execution_count": 17,
   "id": "7dc165e6-940b-453a-89ab-ce124088909d",
   "metadata": {},
   "outputs": [
    {
     "data": {
      "text/plain": [
       "Int64"
      ]
     },
     "execution_count": 17,
     "metadata": {},
     "output_type": "execute_result"
    }
   ],
   "source": [
    "mi_edad = 24\n",
    "typeof(mi_edad) #Funcion que muestra el tipo de variable"
   ]
  },
  {
   "cell_type": "code",
   "execution_count": 19,
   "id": "60050c4e-00dc-4235-bc1d-df7954a51e59",
   "metadata": {},
   "outputs": [
    {
     "data": {
      "text/plain": [
       "Float64"
      ]
     },
     "execution_count": 19,
     "metadata": {},
     "output_type": "execute_result"
    }
   ],
   "source": [
    "mi_estatura_en_metros= 1.77\n",
    "typeof(mi_estatura_en_metros)"
   ]
  },
  {
   "cell_type": "code",
   "execution_count": 21,
   "id": "6dc5b496-004b-43eb-aa54-5614fff844ce",
   "metadata": {},
   "outputs": [
    {
     "data": {
      "text/plain": [
       "ComplexF64\u001b[90m (alias for \u001b[39m\u001b[90mComplex{Float64}\u001b[39m\u001b[90m)\u001b[39m"
      ]
     },
     "execution_count": 21,
     "metadata": {},
     "output_type": "execute_result"
    }
   ],
   "source": [
    "variable_imaginaria = 5.0im\n",
    "typeof(variable_imaginaria)"
   ]
  },
  {
   "cell_type": "markdown",
   "id": "53dded04-841a-46d3-b8e1-d1add1882bb8",
   "metadata": {},
   "source": [
    "2. Datos de tipo Cadena: se asignan usando \"\" o \"\"\" \"\"\" para textos muy largos."
   ]
  },
  {
   "cell_type": "code",
   "execution_count": 18,
   "id": "697eff39-4fb5-4ac8-a004-f579fce95332",
   "metadata": {},
   "outputs": [
    {
     "data": {
      "text/plain": [
       "String"
      ]
     },
     "execution_count": 18,
     "metadata": {},
     "output_type": "execute_result"
    }
   ],
   "source": [
    "mi_nombre = \"Leonardo Vetri\"\n",
    "typeof(mi_nombre)"
   ]
  },
  {
   "cell_type": "code",
   "execution_count": 22,
   "id": "5567a403-dbeb-4302-ab56-059353e58b56",
   "metadata": {},
   "outputs": [
    {
     "data": {
      "text/plain": [
       "String"
      ]
     },
     "execution_count": 22,
     "metadata": {},
     "output_type": "execute_result"
    }
   ],
   "source": [
    "texto_muy_largo = \"\"\"\n",
    "Esto es un texto muy largo incluido en una\n",
    "variable.\n",
    "\"\"\"\n",
    "typeof(texto_muy_largo)"
   ]
  },
  {
   "cell_type": "markdown",
   "id": "f14533d2-41de-4db5-a087-503b431cfc31",
   "metadata": {},
   "source": [
    "3. Booleanos (variables logicas que sólo admiten dos valores: verdadero (true) o falso (false)."
   ]
  },
  {
   "cell_type": "code",
   "execution_count": 23,
   "id": "34632ef3-0862-4f66-bb07-b8641a0cb1d2",
   "metadata": {},
   "outputs": [
    {
     "data": {
      "text/plain": [
       "Bool"
      ]
     },
     "execution_count": 23,
     "metadata": {},
     "output_type": "execute_result"
    }
   ],
   "source": [
    "variable_booleana = true\n",
    "typeof(variable_booleana)"
   ]
  },
  {
   "cell_type": "markdown",
   "id": "b12c3be7-a63b-4bfa-a9d1-ddc6e8130198",
   "metadata": {},
   "source": [
    "4. Carácter (el valor de una constante de tipo carácter es el valor numérico de ese carácter en el código ASCII):"
   ]
  },
  {
   "cell_type": "code",
   "execution_count": 26,
   "id": "28452747-b1b5-4163-90b0-67c7d2be87ae",
   "metadata": {},
   "outputs": [
    {
     "data": {
      "text/plain": [
       "Char"
      ]
     },
     "execution_count": 26,
     "metadata": {},
     "output_type": "execute_result"
    }
   ],
   "source": [
    "variable_char = 'a'\n",
    "typeof(variable_char)"
   ]
  },
  {
   "cell_type": "code",
   "execution_count": 27,
   "id": "2bcc8ed2-7228-4a18-91fa-5e5bbb51fbe1",
   "metadata": {},
   "outputs": [
    {
     "data": {
      "text/plain": [
       "97"
      ]
     },
     "execution_count": 27,
     "metadata": {},
     "output_type": "execute_result"
    }
   ],
   "source": [
    "Int(variable_char) # para encontrar el valor numérico del carácter."
   ]
  },
  {
   "cell_type": "code",
   "execution_count": 28,
   "id": "6f530e83-a254-4ea4-b944-50c35c51d64b",
   "metadata": {},
   "outputs": [
    {
     "data": {
      "text/latex": [
       "\\begin{tabular}\n",
       "{l | r | l}\n",
       "name & size & summary \\\\\n",
       "\\hline\n",
       "Base &  & Module \\\\\n",
       "Core &  & Module \\\\\n",
       "Main &  & Module \\\\\n",
       "estatura\\_en\\_metros & 8 bytes & Float64 \\\\\n",
       "mi\\_edad & 8 bytes & Int64 \\\\\n",
       "mi\\_estatura\\_en\\_metros & 8 bytes & Float64 \\\\\n",
       "mi\\_nombre & 11 bytes & 3-codeunit String \\\\\n",
       "texto\\_muy\\_largo & 61 bytes & 53-codeunit String \\\\\n",
       "var\\_car & 4 bytes & Char \\\\\n",
       "variable\\_booleana & 1 byte & Bool \\\\\n",
       "variable\\_char & 4 bytes & Char \\\\\n",
       "variable\\_imaginaria & 16 bytes & ComplexF64 \\\\\n",
       "\\end{tabular}\n"
      ],
      "text/markdown": [
       "| name                  |     size | summary            |\n",
       "|:--------------------- | --------:|:------------------ |\n",
       "| Base                  |          | Module             |\n",
       "| Core                  |          | Module             |\n",
       "| Main                  |          | Module             |\n",
       "| estatura_en_metros    |  8 bytes | Float64            |\n",
       "| mi_edad               |  8 bytes | Int64              |\n",
       "| mi_estatura_en_metros |  8 bytes | Float64            |\n",
       "| mi_nombre             | 11 bytes | 3-codeunit String  |\n",
       "| texto_muy_largo       | 61 bytes | 53-codeunit String |\n",
       "| var_car               |  4 bytes | Char               |\n",
       "| variable_booleana     |   1 byte | Bool               |\n",
       "| variable_char         |  4 bytes | Char               |\n",
       "| variable_imaginaria   | 16 bytes | ComplexF64         |\n"
      ],
      "text/plain": [
       "  name                      size summary           \n",
       "  ––––––––––––––––––––– –––––––– ––––––––––––––––––\n",
       "  Base                           Module            \n",
       "  Core                           Module            \n",
       "  Main                           Module            \n",
       "  estatura_en_metros     8 bytes Float64           \n",
       "  mi_edad                8 bytes Int64             \n",
       "  mi_estatura_en_metros  8 bytes Float64           \n",
       "  mi_nombre             11 bytes 3-codeunit String \n",
       "  texto_muy_largo       61 bytes 53-codeunit String\n",
       "  var_car                4 bytes Char              \n",
       "  variable_booleana       1 byte Bool              \n",
       "  variable_char          4 bytes Char              \n",
       "  variable_imaginaria   16 bytes ComplexF64        "
      ]
     },
     "execution_count": 28,
     "metadata": {},
     "output_type": "execute_result"
    }
   ],
   "source": [
    "varinfo() #Esta función muestra los nombres de todas las variables y da información detallada del tipo y el tamaño."
   ]
  },
  {
   "cell_type": "markdown",
   "id": "b69f0940-dd4f-4cd3-9165-a113129c8dfb",
   "metadata": {},
   "source": [
    "Operaciones Matematicas Basicas:\n",
    "Julia tiene todas las operaciones matemáticas básicas:\n",
    "\n",
    "1.Suma (+)\n",
    "2.Resta (-)\n",
    "3.Multiplicación (*)\n",
    "4.División (/)\n",
    "5.Potencia (^)\n",
    "6.Módulo (%)"
   ]
  },
  {
   "cell_type": "code",
   "execution_count": 31,
   "id": "eddb22ef-039b-43d8-94ce-d5bece81ec8c",
   "metadata": {},
   "outputs": [
    {
     "name": "stdout",
     "output_type": "stream",
     "text": [
      "suma = a + b = 5.5\n",
      "resta = a - b = 1.5\n",
      "multiplicacion = a * b = 7.0\n",
      "division = a / b = 1.75\n",
      "potencia = a ^ b = 12.25\n",
      "modulo = a % b = 1.5\n"
     ]
    }
   ],
   "source": [
    "a = 3.5\n",
    "b = 2\n",
    "@show suma = a + b; #Una forma muy útil de presentar los resultados, tanto texto como resultados, es usando la macro @show\n",
    "@show resta = a - b;\n",
    "@show multiplicacion = a * b;\n",
    "@show division = a / b;\n",
    "@show potencia = a ^ b;\n",
    "@show modulo = a % b;"
   ]
  },
  {
   "cell_type": "markdown",
   "id": "3f926f16-b40b-4e73-aef1-0e411ab3822f",
   "metadata": {},
   "source": [
    "La operación multiplicación * esta definida también cuando las variables son tipo cadena y sirve para concatenar variables:"
   ]
  },
  {
   "cell_type": "code",
   "execution_count": 33,
   "id": "0f4e9f26-0fc3-454b-becb-848c5bf3dd23",
   "metadata": {},
   "outputs": [
    {
     "name": "stdout",
     "output_type": "stream",
     "text": [
      "saludo = a * b = \"Hola Profesora: Maria Garcia\"\n"
     ]
    }
   ],
   "source": [
    "a = \"Hola Profesora: \"\n",
    "b = \"Maria Garcia\"\n",
    "@show saludo = a * b;"
   ]
  },
  {
   "cell_type": "markdown",
   "id": "7c07915f-018a-4ab5-83c5-255faae33b81",
   "metadata": {},
   "source": [
    "Estructura de Datos:\n",
    "1. Tuplas: se crean utilizando la siguiente sintaxis: nombre = (item1, item2, ...)"
   ]
  },
  {
   "cell_type": "code",
   "execution_count": 1,
   "id": "d55ce46c-4f9a-474b-ac80-4c8b76eea296",
   "metadata": {},
   "outputs": [
    {
     "data": {
      "text/plain": [
       "(1, 2, 3, \"perro\", \"gato\")"
      ]
     },
     "execution_count": 1,
     "metadata": {},
     "output_type": "execute_result"
    }
   ],
   "source": [
    "mi_tupla = (1,2,3, \"perro\", \"gato\")"
   ]
  },
  {
   "cell_type": "markdown",
   "id": "66e1c2ad-3772-4c50-9f2e-b308daa5048a",
   "metadata": {},
   "source": [
    "Cada elemento puede ser recuperado usando su indice asociado a su ordenamiento"
   ]
  },
  {
   "cell_type": "code",
   "execution_count": 2,
   "id": "20a69655-7523-4aa9-a9f7-6114be5ac506",
   "metadata": {},
   "outputs": [
    {
     "data": {
      "text/plain": [
       "\"perro\""
      ]
     },
     "execution_count": 2,
     "metadata": {},
     "output_type": "execute_result"
    }
   ],
   "source": [
    "mi_tupla[4]"
   ]
  },
  {
   "cell_type": "markdown",
   "id": "89d141cc-fa6a-467d-8be9-ec606368339b",
   "metadata": {},
   "source": [
    "Las tuplas son inmutables, no se puede cambiar el cn=ontenido de ellas una vez que ya se crearon."
   ]
  },
  {
   "cell_type": "code",
   "execution_count": 3,
   "id": "541e51dd-2dac-4b2c-9168-c2cfb89e3326",
   "metadata": {},
   "outputs": [
    {
     "ename": "LoadError",
     "evalue": "MethodError: no method matching setindex!(::Tuple{Int64, Int64, Int64, String, String}, ::Int64, ::Int64)",
     "output_type": "error",
     "traceback": [
      "MethodError: no method matching setindex!(::Tuple{Int64, Int64, Int64, String, String}, ::Int64, ::Int64)",
      "",
      "Stacktrace:",
      " [1] top-level scope",
      "   @ In[3]:1"
     ]
    }
   ],
   "source": [
    "mi_tupla[1] = 20"
   ]
  },
  {
   "cell_type": "markdown",
   "id": "c660de58-88f7-43eb-a8e9-3b95f6e99e9f",
   "metadata": {},
   "source": [
    "Las tuplas también pueden contener nombres o identificadores para cada elemento:"
   ]
  },
  {
   "cell_type": "code",
   "execution_count": 4,
   "id": "bd163526-1346-4abc-9ce2-ffe97ea11864",
   "metadata": {},
   "outputs": [
    {
     "name": "stdout",
     "output_type": "stream",
     "text": [
      "mi_tupla = (num1 = 1, num2 = 2, num3 = 3, texto1 = \"perro\", texto2 = \"gato\")\n"
     ]
    }
   ],
   "source": [
    "mi_tupla = (num1=1, num2=2, num3=3, texto1=\"perro\", texto2=\"gato\")\n",
    "@show mi_tupla;"
   ]
  },
  {
   "cell_type": "markdown",
   "id": "c8875222-28fb-46ac-b769-eb9dd1fb3289",
   "metadata": {},
   "source": [
    "En este caso cada elemento puede ser recuperado usando el nombre o identificador asociado (el orden en este caso es irrelevante). Hay dos formatos para realizar esto: usando la notación tupla.nombre o usando la notación tupla[:nombre].\r\n",
    "\r\n"
   ]
  },
  {
   "cell_type": "code",
   "execution_count": 7,
   "id": "33836eb0-f8d8-4e7f-8c0a-3007370f4331",
   "metadata": {},
   "outputs": [
    {
     "data": {
      "text/plain": [
       "1"
      ]
     },
     "execution_count": 7,
     "metadata": {},
     "output_type": "execute_result"
    }
   ],
   "source": [
    "mi_tupla.num1"
   ]
  },
  {
   "cell_type": "code",
   "execution_count": 6,
   "id": "504cccb9-b746-498a-84e7-d445ffc686f5",
   "metadata": {},
   "outputs": [
    {
     "data": {
      "text/plain": [
       "\"gato\""
      ]
     },
     "execution_count": 6,
     "metadata": {},
     "output_type": "execute_result"
    }
   ],
   "source": [
    "mi_tupla[:texto2]"
   ]
  },
  {
   "cell_type": "markdown",
   "id": "0b2ff568-392c-46ad-bb26-b240eef982d1",
   "metadata": {},
   "source": [
    "Los Diccionarios se crean utilizando la siguiente sintaxis: Dict(clave1 => valor1, clave2 => valor2, ...)\r\n"
   ]
  },
  {
   "cell_type": "code",
   "execution_count": 8,
   "id": "4f1b5d60-b3f3-488a-8afc-381d1b0bae56",
   "metadata": {},
   "outputs": [
    {
     "data": {
      "text/plain": [
       "Dict{String, Any} with 3 entries:\n",
       "  \"Angel\"  => 12.5\n",
       "  \"Freddy\" => \"NP\"\n",
       "  \"Juan\"   => 14.8"
      ]
     },
     "execution_count": 8,
     "metadata": {},
     "output_type": "execute_result"
    }
   ],
   "source": [
    "notas = Dict(\"Angel\" => 12.5, \"Juan\" => 14.8, \"Freddy\" => \"NP\")\n"
   ]
  },
  {
   "cell_type": "markdown",
   "id": "50d7877b-0b4b-468f-b289-c0e42d8fab39",
   "metadata": {},
   "source": [
    "Cada elemento puede ser recuperado usando su clave asociada con la sintaxis nombre_dic[\"clave\"] :"
   ]
  },
  {
   "cell_type": "code",
   "execution_count": 9,
   "id": "b599a038-612c-4883-8fc6-4da9c7bc6ac6",
   "metadata": {},
   "outputs": [
    {
     "data": {
      "text/plain": [
       "14.8"
      ]
     },
     "execution_count": 9,
     "metadata": {},
     "output_type": "execute_result"
    }
   ],
   "source": [
    "notas[\"Juan\"]"
   ]
  },
  {
   "cell_type": "markdown",
   "id": "75d6fa5a-d150-471a-b8d8-76639f93352c",
   "metadata": {},
   "source": [
    "Los Diccionarios son mutable por lo que podemos cambiar su contenido:\r\n",
    "\r\n"
   ]
  },
  {
   "cell_type": "code",
   "execution_count": 10,
   "id": "f3aaa1c2-eba5-4e01-ae96-666f67f6de3b",
   "metadata": {},
   "outputs": [
    {
     "data": {
      "text/plain": [
       "17.0"
      ]
     },
     "execution_count": 10,
     "metadata": {},
     "output_type": "execute_result"
    }
   ],
   "source": [
    "notas[\"Freddy\"] = 17.0\n"
   ]
  },
  {
   "cell_type": "code",
   "execution_count": 11,
   "id": "0592805f-d2aa-4a9c-a440-6e3c0ec6b8d4",
   "metadata": {},
   "outputs": [
    {
     "data": {
      "text/plain": [
       "Dict{String, Any} with 3 entries:\n",
       "  \"Angel\"  => 12.5\n",
       "  \"Freddy\" => 17.0\n",
       "  \"Juan\"   => 14.8"
      ]
     },
     "execution_count": 11,
     "metadata": {},
     "output_type": "execute_result"
    }
   ],
   "source": [
    "notas"
   ]
  },
  {
   "cell_type": "markdown",
   "id": "1bc18069-2fb8-455a-8cac-1e94b90f1608",
   "metadata": {},
   "source": [
    "Es posible además adicionar elementos definiendo una clave inexistente y su valor:"
   ]
  },
  {
   "cell_type": "code",
   "execution_count": 12,
   "id": "66683256-422a-4f97-8a99-66a0afaffb51",
   "metadata": {},
   "outputs": [
    {
     "data": {
      "text/plain": [
       "18.5"
      ]
     },
     "execution_count": 12,
     "metadata": {},
     "output_type": "execute_result"
    }
   ],
   "source": [
    "notas[\"Francesca\"] = 18.5\n"
   ]
  },
  {
   "cell_type": "code",
   "execution_count": 13,
   "id": "80bef978-d7a2-4bf5-a698-39e1fe562174",
   "metadata": {},
   "outputs": [
    {
     "data": {
      "text/plain": [
       "Dict{String, Any} with 4 entries:\n",
       "  \"Angel\"     => 12.5\n",
       "  \"Freddy\"    => 17.0\n",
       "  \"Francesca\" => 18.5\n",
       "  \"Juan\"      => 14.8"
      ]
     },
     "execution_count": 13,
     "metadata": {},
     "output_type": "execute_result"
    }
   ],
   "source": [
    "notas"
   ]
  },
  {
   "cell_type": "markdown",
   "id": "bdc4d86f-a09f-4575-b339-b2baa693efb3",
   "metadata": {},
   "source": [
    "Para eliminar una entrada del Diccionario usamos la función pop!(Diccionario, \"clave\") :"
   ]
  },
  {
   "cell_type": "code",
   "execution_count": 14,
   "id": "655b6d6e-022c-4263-b432-9aa70c0a47bb",
   "metadata": {},
   "outputs": [
    {
     "data": {
      "text/plain": [
       "12.5"
      ]
     },
     "execution_count": 14,
     "metadata": {},
     "output_type": "execute_result"
    }
   ],
   "source": [
    "pop!(notas, \"Angel\")"
   ]
  },
  {
   "cell_type": "code",
   "execution_count": 15,
   "id": "620110c9-33c0-49b5-950c-e3222629a845",
   "metadata": {},
   "outputs": [
    {
     "data": {
      "text/plain": [
       "Dict{String, Any} with 3 entries:\n",
       "  \"Freddy\"    => 17.0\n",
       "  \"Francesca\" => 18.5\n",
       "  \"Juan\"      => 14.8"
      ]
     },
     "execution_count": 15,
     "metadata": {},
     "output_type": "execute_result"
    }
   ],
   "source": [
    "notas"
   ]
  },
  {
   "cell_type": "markdown",
   "id": "40864ec8-a273-4f93-9692-c82e73b5a7c0",
   "metadata": {},
   "source": [
    "3. Los Arreglos se crean utilizando la siguiente sintaxis: nombre = [item1, item2, ...]"
   ]
  },
  {
   "cell_type": "code",
   "execution_count": 18,
   "id": "21c748d4-cd22-48b3-9f5a-4114314a5d0f",
   "metadata": {},
   "outputs": [
    {
     "data": {
      "text/plain": [
       "4-element Vector{String}:\n",
       " \"Angelo\"\n",
       " \"Juan\"\n",
       " \"Leo\"\n",
       " \"Angel\""
      ]
     },
     "execution_count": 18,
     "metadata": {},
     "output_type": "execute_result"
    }
   ],
   "source": [
    "arreglo_nombres = [\"Angelo\", \"Juan\", \"Leo\", \"Angel\"]\n"
   ]
  },
  {
   "cell_type": "markdown",
   "id": "c065486f-3d70-46a2-a1ae-36a4e30d2cf7",
   "metadata": {},
   "source": [
    "Al igual que con las Tuplas, cada elemento puede ser recuperado usando el índice asociado a su ordenamiento (empezando en 1) bajo la sintaxis nombre_arreglo[indice] y a su vez son mutables por lo que podemos cambiar su contenido:"
   ]
  },
  {
   "cell_type": "code",
   "execution_count": 20,
   "id": "99717100-5332-4025-b492-d69cbcb7b8d3",
   "metadata": {},
   "outputs": [
    {
     "data": {
      "text/plain": [
       "\"Leo\""
      ]
     },
     "execution_count": 20,
     "metadata": {},
     "output_type": "execute_result"
    }
   ],
   "source": [
    "arreglo_nombres[3]"
   ]
  },
  {
   "cell_type": "code",
   "execution_count": 21,
   "id": "c808b40e-9f00-43f3-aa32-4db65deb9989",
   "metadata": {},
   "outputs": [
    {
     "data": {
      "text/plain": [
       "\"Leonardo\""
      ]
     },
     "execution_count": 21,
     "metadata": {},
     "output_type": "execute_result"
    }
   ],
   "source": [
    "arreglo_nombres[3] = \"Leonardo\""
   ]
  },
  {
   "cell_type": "code",
   "execution_count": 22,
   "id": "f3a9a85f-9a5b-48fa-a3c6-a7e23f6c5247",
   "metadata": {},
   "outputs": [
    {
     "data": {
      "text/plain": [
       "4-element Vector{String}:\n",
       " \"Angelo\"\n",
       " \"Juan\"\n",
       " \"Leonardo\"\n",
       " \"Angel\""
      ]
     },
     "execution_count": 22,
     "metadata": {},
     "output_type": "execute_result"
    }
   ],
   "source": [
    "arreglo_nombres"
   ]
  },
  {
   "cell_type": "markdown",
   "id": "6b0db424-e5de-4a31-aa57-713e0476763c",
   "metadata": {},
   "source": [
    "Tambien es posible editar el contenidos de un Arreglo usando las funciones push! y pop!.\n",
    "push! adiciona un elemento al final del arreglo.\n",
    "pop! remueve el ultimo elemento del arreglo."
   ]
  },
  {
   "cell_type": "code",
   "execution_count": 24,
   "id": "2b644fab-158a-4acf-83bd-868a0a9c34f6",
   "metadata": {},
   "outputs": [
    {
     "data": {
      "text/plain": [
       "5-element Vector{String}:\n",
       " \"Angelo\"\n",
       " \"Juan\"\n",
       " \"Leonardo\"\n",
       " \"Angel\"\n",
       " \"Freddy\""
      ]
     },
     "execution_count": 24,
     "metadata": {},
     "output_type": "execute_result"
    }
   ],
   "source": [
    "push!(arreglo_nombres, \"Freddy\")"
   ]
  },
  {
   "cell_type": "code",
   "execution_count": 25,
   "id": "c91b0b4c-0c2d-4965-a0d4-5e16422b4400",
   "metadata": {},
   "outputs": [
    {
     "data": {
      "text/plain": [
       "\"Freddy\""
      ]
     },
     "execution_count": 25,
     "metadata": {},
     "output_type": "execute_result"
    }
   ],
   "source": [
    "pop!(arreglo_nombres)"
   ]
  },
  {
   "cell_type": "code",
   "execution_count": 26,
   "id": "5cc3a4e6-acea-4414-8714-536bbd547f04",
   "metadata": {},
   "outputs": [
    {
     "data": {
      "text/plain": [
       "4-element Vector{String}:\n",
       " \"Angelo\"\n",
       " \"Juan\"\n",
       " \"Leonardo\"\n",
       " \"Angel\""
      ]
     },
     "execution_count": 26,
     "metadata": {},
     "output_type": "execute_result"
    }
   ],
   "source": [
    "arreglo_nombres"
   ]
  },
  {
   "cell_type": "markdown",
   "id": "60c7f7d5-ebdc-486c-a67f-f64f6e9a4808",
   "metadata": {},
   "source": [
    "Tambien podemos crear arreglos que contengan otros arreglos:"
   ]
  },
  {
   "cell_type": "code",
   "execution_count": 27,
   "id": "ae88fe11-b4c1-499c-a9ed-07a50ba5b839",
   "metadata": {},
   "outputs": [
    {
     "data": {
      "text/plain": [
       "4-element Vector{Any}:\n",
       "  [3, 4, 1]\n",
       "  [2, 1]\n",
       " 3\n",
       "  [6, 7, 8, 9, 11]"
      ]
     },
     "execution_count": 27,
     "metadata": {},
     "output_type": "execute_result"
    }
   ],
   "source": [
    "arreglo_compuesto = [[3, 4, 1], [2, 1], 3, [6, 7, 8, 9, 11]]\n"
   ]
  },
  {
   "cell_type": "markdown",
   "id": "066d84d3-a407-4766-9651-805e5c6801f2",
   "metadata": {},
   "source": [
    "Elementos Basicos para Graficar:"
   ]
  }
 ],
 "metadata": {
  "kernelspec": {
   "display_name": "Julia 1.10.3",
   "language": "julia",
   "name": "julia-1.10"
  },
  "language_info": {
   "file_extension": ".jl",
   "mimetype": "application/julia",
   "name": "julia",
   "version": "1.10.3"
  }
 },
 "nbformat": 4,
 "nbformat_minor": 5
}
